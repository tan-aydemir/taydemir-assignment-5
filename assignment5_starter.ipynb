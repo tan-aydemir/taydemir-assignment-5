{
 "cells": [
  {
   "cell_type": "code",
   "execution_count": 22,
   "metadata": {},
   "outputs": [],
   "source": [
    "import numpy as np\n",
    "import pandas as pd\n",
    "from sklearn.calibration import LabelEncoder"
   ]
  },
  {
   "cell_type": "code",
   "execution_count": 23,
   "metadata": {},
   "outputs": [],
   "source": [
    "# Define the KNN class\n",
    "class KNN:\n",
    "    def __init__(self, k=3, distance_metric='euclidean'):\n",
    "        self.k = k\n",
    "        self.distance_metric = distance_metric\n",
    "\n",
    "    def fit(self, X, y):\n",
    "        # TODO: Implement the fit method\n",
    "        self.X_train = X\n",
    "        self.y_train = y\n",
    "\n",
    "    def predict(self, X):\n",
    "        prediction_arr = [self._predict(x) for x in X]\n",
    "        return np.array(prediction_arr)\n",
    "    \n",
    "    def _predict(self, x):\n",
    "        distances = [self.compute_distance(x, x_train) for x_train in self.X_train]\n",
    "        k_indices = np.argsort(distances)[:self.k]\n",
    "        k_nearest_label = [self.y_train.iloc[i] for i in k_indices]\n",
    "        most_frequent = np.bincount(k_nearest_label).argmax()\n",
    "        return most_frequent\n",
    "    \n",
    "    def compute_distance(self, X, Y):\n",
    "        if self.distance_metric == 'euclidean':\n",
    "            return np.sqrt(np.sum((X - Y) ** 2))\n",
    "        \n",
    "        else:\n",
    "            raise ValueError(\"Incorrect distance metric\")\n",
    "            "
   ]
  },
  {
   "cell_type": "code",
   "execution_count": 24,
   "metadata": {},
   "outputs": [],
   "source": [
    "# Define data preprocessing function\n",
    "from sklearn.discriminant_analysis import StandardScaler\n",
    "from sklearn.preprocessing import PolynomialFeatures\n",
    "\n",
    "def preprocess_data(train_path, test_path):\n",
    "    train_data = pd.read_csv(train_path)\n",
    "    test_data = pd.read_csv(test_path)\n",
    "\n",
    "    # TODO: Implement data preprocessing\n",
    "    # Handle categorical variables, scale features, etc.\n",
    "    concatenated = pd.concat([train_data, test_data], axis=0)\n",
    "    encoders = {}\n",
    "    \n",
    "    for col in concatenated.select_dtypes(include=['object']).columns:\n",
    "        label_encoder = LabelEncoder()\n",
    "        concatenated[col] = label_encoder.fit_transform(concatenated[col])\n",
    "        encoders[col] = label_encoder\n",
    "    \n",
    "    l = len(train_data)\n",
    "    train_data = concatenated.iloc[:l]\n",
    "    test_data = concatenated.iloc[l:]\n",
    "    \n",
    "    # Separet the features and the target\n",
    "    X_train = train_data.drop(columns=['Exited'])\n",
    "    y_train = train_data['Exited']\n",
    "    X_test = test_data.drop(columns=['Exited'])\n",
    "    \n",
    "    feature_eng = PolynomialFeatures(degree=2, interaction_only=True, include_bias=False)\n",
    "    X_train_with_features = feature_eng.fit_transform(X_train)\n",
    "    X_test_with_features = feature_eng.transform(X_test)\n",
    "    \n",
    "    # Standard Scaler to scale features\n",
    "    scaler = StandardScaler()\n",
    "    X_train_with_features = scaler.fit_transform(X_train_with_features)\n",
    "    X_test_with_features = scaler.transform(X_test_with_features)\n",
    "    \n",
    "    return X_train_with_features, y_train, X_test_with_features      "
   ]
  },
  {
   "cell_type": "code",
   "execution_count": 25,
   "metadata": {},
   "outputs": [],
   "source": [
    "# Define cross-validation function\n",
    "from sklearn.metrics import roc_auc_score\n",
    "from sklearn.model_selection import KFold\n",
    "\n",
    "\n",
    "def cross_validate(X, y, knn, n_splits=5):\n",
    "    # TODO: Implement cross-validation\n",
    "    # Compute ROC AUC scores\n",
    "    \n",
    "    kf = KFold(n_splits=n_splits, shuffle=True, random_state=42)\n",
    "    score_list = []\n",
    "    \n",
    "    for tr_idx, val_idx in kf.split(X):\n",
    "        # Separate the data into test & training sets based on their current indices. \n",
    "        X_train, X_val = X[tr_idx], X[val_idx]\n",
    "        y_train, y_val = y.iloc[tr_idx], y.iloc[val_idx]\n",
    "        \n",
    "        # Fit the training data to the KNN Model\n",
    "        knn.fit(X_train, y_train)\n",
    "        y_pred = knn.predict(X_val)\n",
    "        \n",
    "        # Estimate the target values for the validation set\n",
    "        score = roc_auc_score(y_val, y_pred)\n",
    "        score_list.append(score)\n",
    "    return score_list"
   ]
  },
  {
   "cell_type": "code",
   "execution_count": 26,
   "metadata": {},
   "outputs": [
    {
     "name": "stdout",
     "output_type": "stream",
     "text": [
      "Starting KNN hyperparameter tuning - Finding the best k\n",
      "Best k value: 13\n",
      "Best cross-validation score: 0\n"
     ]
    },
    {
     "name": "stderr",
     "output_type": "stream",
     "text": [
      "/var/folders/z0/y9bnlmls5r596jf611wd8l6h0000gn/T/ipykernel_3318/2146245354.py:20: DeprecationWarning: Non-integer input passed to bincount. In a future version of NumPy, this will be an error. (Deprecated NumPy 2.1)\n",
      "  most_frequent = np.bincount(k_nearest_label).argmax()\n"
     ]
    }
   ],
   "source": [
    "from imblearn.over_sampling import SMOTE\n",
    "\n",
    "# Load and preprocess data\n",
    "X, y, X_test = preprocess_data('train.csv', 'test.csv')\n",
    "\n",
    "# Balance the dataset using SMOTE\n",
    "smote = SMOTE(random_state=42)\n",
    "X_resampled, y_resampled = smote.fit_resample(X, y)\n",
    "\n",
    "# Define a range of k values to search for the best one\n",
    "k_values = range(1, 5)\n",
    "best_k = 13\n",
    "best_score = 0\n",
    "\n",
    "# Search for the best k value using cross-validation\n",
    "print(\"Starting KNN hyperparameter tuning - Finding the best k\")\n",
    "\n",
    "# for k in k_values:\n",
    "#     knn = KNN(k=k)\n",
    "#     scores = cross_validate(X_resampled, y_resampled, knn, n_splits=5)\n",
    "#     avg_score = np.mean(scores)\n",
    "#     print(f\"Average ROC AUC score for k={k}: {avg_score}\")\n",
    "    \n",
    "#     if avg_score > best_score:\n",
    "#         best_score = avg_score\n",
    "#         best_k = k\n",
    "\n",
    "print(f\"Best k value: {best_k}\")\n",
    "print(f\"Best cross-validation score: {best_score}\")\n",
    "\n",
    "# Train the final model using the best k value\n",
    "best_knn = KNN(k=best_k)\n",
    "best_knn.fit(X_resampled, y_resampled)\n",
    "test_predictions = best_knn.predict(X_test)\n",
    "\n",
    "# Save test predictions\n",
    "pd.DataFrame({'id': pd.read_csv('test.csv')['id'], 'Exited': test_predictions}).to_csv('submissions.csv', index=False)\n"
   ]
  },
  {
   "cell_type": "code",
   "execution_count": null,
   "metadata": {},
   "outputs": [],
   "source": []
  },
  {
   "cell_type": "code",
   "execution_count": null,
   "metadata": {},
   "outputs": [],
   "source": []
  },
  {
   "cell_type": "code",
   "execution_count": null,
   "metadata": {},
   "outputs": [],
   "source": []
  }
 ],
 "metadata": {
  "kernelspec": {
   "display_name": "cs506",
   "language": "python",
   "name": "python3"
  },
  "language_info": {
   "codemirror_mode": {
    "name": "ipython",
    "version": 3
   },
   "file_extension": ".py",
   "mimetype": "text/x-python",
   "name": "python",
   "nbconvert_exporter": "python",
   "pygments_lexer": "ipython3",
   "version": "3.12.5"
  }
 },
 "nbformat": 4,
 "nbformat_minor": 2
}
